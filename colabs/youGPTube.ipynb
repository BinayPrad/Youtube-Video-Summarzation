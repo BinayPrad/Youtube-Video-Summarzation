{
  "cells": [
    {
      "cell_type": "markdown",
      "metadata": {
        "id": "view-in-github",
        "colab_type": "text"
      },
      "source": [
        "<a href=\"https://colab.research.google.com/github/BinayPrad/Youtube-Video-Summarzation/blob/main/colabs/youGPTube.ipynb\" target=\"_parent\"><img src=\"https://colab.research.google.com/assets/colab-badge.svg\" alt=\"Open In Colab\"/></a>"
      ]
    },
    {
      "cell_type": "markdown",
      "metadata": {
        "id": "XGnul3V2Bmen"
      },
      "source": [
        "# YouGPTube 🦾\n",
        "\n",
        "## TL;DR 👇\n",
        "\n",
        "* Summarize any YouTube video using whisper and chatGPT\n",
        "\n",
        "## How it works 🤔\n",
        "\n",
        "![yougptube](https://user-images.githubusercontent.com/18450628/229377710-95fb8645-3d71-47d0-b3ba-0fd05941b083.png)\n",
        "\n",
        "Here are the main steps:\n",
        "\n",
        "1) Extract the audio using youtube-dl\n",
        "2) Process the audio into smaller chunks\n",
        "3) Each chunk is transcribed using whisper, OpenAI's powerful speech2text model\n",
        "4) Each transcription is summarized using ChatGPT"
      ]
    },
    {
      "cell_type": "markdown",
      "metadata": {
        "id": "8UAH4L5HBmfC"
      },
      "source": [
        "## Imports and dependencies️ ⚙️"
      ]
    },
    {
      "cell_type": "code",
      "source": [
        "!pip install openai"
      ],
      "metadata": {
        "colab": {
          "base_uri": "https://localhost:8080/"
        },
        "id": "31jJbLyKNE9z",
        "outputId": "22bf2404-87bb-4240-95ed-7ed8e7f88b2a"
      },
      "execution_count": 73,
      "outputs": [
        {
          "output_type": "stream",
          "name": "stdout",
          "text": [
            "Requirement already satisfied: openai in /usr/local/lib/python3.10/dist-packages (1.42.0)\n",
            "Requirement already satisfied: anyio<5,>=3.5.0 in /usr/local/lib/python3.10/dist-packages (from openai) (3.7.1)\n",
            "Requirement already satisfied: distro<2,>=1.7.0 in /usr/lib/python3/dist-packages (from openai) (1.7.0)\n",
            "Requirement already satisfied: httpx<1,>=0.23.0 in /usr/local/lib/python3.10/dist-packages (from openai) (0.27.0)\n",
            "Requirement already satisfied: jiter<1,>=0.4.0 in /usr/local/lib/python3.10/dist-packages (from openai) (0.5.0)\n",
            "Requirement already satisfied: pydantic<3,>=1.9.0 in /usr/local/lib/python3.10/dist-packages (from openai) (2.8.2)\n",
            "Requirement already satisfied: sniffio in /usr/local/lib/python3.10/dist-packages (from openai) (1.3.1)\n",
            "Requirement already satisfied: tqdm>4 in /usr/local/lib/python3.10/dist-packages (from openai) (4.66.5)\n",
            "Requirement already satisfied: typing-extensions<5,>=4.11 in /usr/local/lib/python3.10/dist-packages (from openai) (4.12.2)\n",
            "Requirement already satisfied: idna>=2.8 in /usr/local/lib/python3.10/dist-packages (from anyio<5,>=3.5.0->openai) (3.7)\n",
            "Requirement already satisfied: exceptiongroup in /usr/local/lib/python3.10/dist-packages (from anyio<5,>=3.5.0->openai) (1.2.2)\n",
            "Requirement already satisfied: certifi in /usr/local/lib/python3.10/dist-packages (from httpx<1,>=0.23.0->openai) (2024.7.4)\n",
            "Requirement already satisfied: httpcore==1.* in /usr/local/lib/python3.10/dist-packages (from httpx<1,>=0.23.0->openai) (1.0.5)\n",
            "Requirement already satisfied: h11<0.15,>=0.13 in /usr/local/lib/python3.10/dist-packages (from httpcore==1.*->httpx<1,>=0.23.0->openai) (0.14.0)\n",
            "Requirement already satisfied: annotated-types>=0.4.0 in /usr/local/lib/python3.10/dist-packages (from pydantic<3,>=1.9.0->openai) (0.7.0)\n",
            "Requirement already satisfied: pydantic-core==2.20.1 in /usr/local/lib/python3.10/dist-packages (from pydantic<3,>=1.9.0->openai) (2.20.1)\n"
          ]
        }
      ]
    },
    {
      "cell_type": "code",
      "source": [
        "!pip install --upgrade openai"
      ],
      "metadata": {
        "colab": {
          "base_uri": "https://localhost:8080/"
        },
        "id": "itgdK-QcWCjz",
        "outputId": "a1f33aea-b73c-4fee-925e-af1d41fe3d98"
      },
      "execution_count": 74,
      "outputs": [
        {
          "output_type": "stream",
          "name": "stdout",
          "text": [
            "Requirement already satisfied: openai in /usr/local/lib/python3.10/dist-packages (1.42.0)\n",
            "Requirement already satisfied: anyio<5,>=3.5.0 in /usr/local/lib/python3.10/dist-packages (from openai) (3.7.1)\n",
            "Requirement already satisfied: distro<2,>=1.7.0 in /usr/lib/python3/dist-packages (from openai) (1.7.0)\n",
            "Requirement already satisfied: httpx<1,>=0.23.0 in /usr/local/lib/python3.10/dist-packages (from openai) (0.27.0)\n",
            "Requirement already satisfied: jiter<1,>=0.4.0 in /usr/local/lib/python3.10/dist-packages (from openai) (0.5.0)\n",
            "Requirement already satisfied: pydantic<3,>=1.9.0 in /usr/local/lib/python3.10/dist-packages (from openai) (2.8.2)\n",
            "Requirement already satisfied: sniffio in /usr/local/lib/python3.10/dist-packages (from openai) (1.3.1)\n",
            "Requirement already satisfied: tqdm>4 in /usr/local/lib/python3.10/dist-packages (from openai) (4.66.5)\n",
            "Requirement already satisfied: typing-extensions<5,>=4.11 in /usr/local/lib/python3.10/dist-packages (from openai) (4.12.2)\n",
            "Requirement already satisfied: idna>=2.8 in /usr/local/lib/python3.10/dist-packages (from anyio<5,>=3.5.0->openai) (3.7)\n",
            "Requirement already satisfied: exceptiongroup in /usr/local/lib/python3.10/dist-packages (from anyio<5,>=3.5.0->openai) (1.2.2)\n",
            "Requirement already satisfied: certifi in /usr/local/lib/python3.10/dist-packages (from httpx<1,>=0.23.0->openai) (2024.7.4)\n",
            "Requirement already satisfied: httpcore==1.* in /usr/local/lib/python3.10/dist-packages (from httpx<1,>=0.23.0->openai) (1.0.5)\n",
            "Requirement already satisfied: h11<0.15,>=0.13 in /usr/local/lib/python3.10/dist-packages (from httpcore==1.*->httpx<1,>=0.23.0->openai) (0.14.0)\n",
            "Requirement already satisfied: annotated-types>=0.4.0 in /usr/local/lib/python3.10/dist-packages (from pydantic<3,>=1.9.0->openai) (0.7.0)\n",
            "Requirement already satisfied: pydantic-core==2.20.1 in /usr/local/lib/python3.10/dist-packages (from pydantic<3,>=1.9.0->openai) (2.20.1)\n"
          ]
        }
      ]
    },
    {
      "cell_type": "code",
      "source": [
        "!pip install youtube-dl"
      ],
      "metadata": {
        "colab": {
          "base_uri": "https://localhost:8080/"
        },
        "id": "5SCHP6bwNtwG",
        "outputId": "54fb6e12-8860-40a5-f7c3-5e5cc1feb9bf"
      },
      "execution_count": 75,
      "outputs": [
        {
          "output_type": "stream",
          "name": "stdout",
          "text": [
            "Requirement already satisfied: youtube-dl in /usr/local/lib/python3.10/dist-packages (2021.12.17)\n"
          ]
        }
      ]
    },
    {
      "cell_type": "code",
      "execution_count": 76,
      "metadata": {
        "id": "3ZmVlnB-BmfF"
      },
      "outputs": [],
      "source": [
        "import os\n",
        "import shutil\n",
        "\n",
        "import librosa\n",
        "import openai\n",
        "import soundfile as sf\n",
        "import youtube_dl\n",
        "from youtube_dl.utils import DownloadError\n",
        "\n",
        "openai.api_key=\"\""
      ]
    },
    {
      "cell_type": "markdown",
      "metadata": {
        "id": "o6Xuc3xyBmfM"
      },
      "source": [
        "## Utility functions 🔋"
      ]
    },
    {
      "cell_type": "code",
      "execution_count": 77,
      "metadata": {
        "id": "gQYDPkXbBmfO"
      },
      "outputs": [],
      "source": [
        "def find_audio_files(path, extension=\".mp3\"):\n",
        "    \"\"\"Recursively find all files with extension in path.\"\"\"\n",
        "    audio_files = []\n",
        "    for root, dirs, files in os.walk(path):\n",
        "        for f in files:\n",
        "            if f.endswith(extension):\n",
        "                audio_files.append(os.path.join(root, f))\n",
        "\n",
        "    return audio_files"
      ]
    },
    {
      "cell_type": "markdown",
      "metadata": {
        "id": "jxvaa7cfBmfQ"
      },
      "source": [
        "## Download youtube audio 🔈"
      ]
    },
    {
      "cell_type": "code",
      "source": [
        "!pip install yt-dlp\n",
        "\n",
        "import yt_dlp"
      ],
      "metadata": {
        "colab": {
          "base_uri": "https://localhost:8080/"
        },
        "id": "yeynmUBZRIBa",
        "outputId": "8fdc083b-7f1c-4f4a-b97b-86af76e468be"
      },
      "execution_count": 78,
      "outputs": [
        {
          "output_type": "stream",
          "name": "stdout",
          "text": [
            "Requirement already satisfied: yt-dlp in /usr/local/lib/python3.10/dist-packages (2024.8.6)\n",
            "Requirement already satisfied: brotli in /usr/local/lib/python3.10/dist-packages (from yt-dlp) (1.1.0)\n",
            "Requirement already satisfied: certifi in /usr/local/lib/python3.10/dist-packages (from yt-dlp) (2024.7.4)\n",
            "Requirement already satisfied: mutagen in /usr/local/lib/python3.10/dist-packages (from yt-dlp) (1.47.0)\n",
            "Requirement already satisfied: pycryptodomex in /usr/local/lib/python3.10/dist-packages (from yt-dlp) (3.20.0)\n",
            "Requirement already satisfied: requests<3,>=2.32.2 in /usr/local/lib/python3.10/dist-packages (from yt-dlp) (2.32.3)\n",
            "Requirement already satisfied: urllib3<3,>=1.26.17 in /usr/local/lib/python3.10/dist-packages (from yt-dlp) (2.0.7)\n",
            "Requirement already satisfied: websockets>=12.0 in /usr/local/lib/python3.10/dist-packages (from yt-dlp) (13.0)\n",
            "Requirement already satisfied: charset-normalizer<4,>=2 in /usr/local/lib/python3.10/dist-packages (from requests<3,>=2.32.2->yt-dlp) (3.3.2)\n",
            "Requirement already satisfied: idna<4,>=2.5 in /usr/local/lib/python3.10/dist-packages (from requests<3,>=2.32.2->yt-dlp) (3.7)\n"
          ]
        }
      ]
    },
    {
      "cell_type": "code",
      "execution_count": 80,
      "metadata": {
        "id": "h9uGCkI8BmfS"
      },
      "outputs": [],
      "source": [
        "def youtube_to_mp3(youtube_url: str, output_dir: str) -> str:\n",
        "    \"\"\"Download the audio from a youtube video, save it to output_dir as an .mp3 file.\n",
        "\n",
        "    Returns the filename of the savied video.\n",
        "    \"\"\"\n",
        "\n",
        "    # config\n",
        "    ydl_config = {\n",
        "        \"format\": \"bestaudio/best\",\n",
        "        \"postprocessors\": [\n",
        "            {\n",
        "                \"key\": \"FFmpegExtractAudio\",\n",
        "                \"preferredcodec\": \"mp3\",\n",
        "                \"preferredquality\": \"192\",\n",
        "            }\n",
        "        ],\n",
        "        \"outtmpl\": os.path.join(output_dir, \"%(title)s.%(ext)s\"),\n",
        "        \"verbose\": True,\n",
        "    }\n",
        "\n",
        "    if not os.path.exists(output_dir):\n",
        "        os.makedirs(output_dir)\n",
        "\n",
        "    print(f\"Downloading video from {youtube_url}\")\n",
        "\n",
        "    try:\n",
        "        with yt_dlp.YoutubeDL(ydl_config) as ydl:\n",
        "            ydl.download([youtube_url])\n",
        "    except DownloadError:\n",
        "        # weird bug where youtube-dl fails on the first download, but then works on second try... hacky ugly way around it.\n",
        "        with yt_dlp.YoutubeDL(ydl_config) as ydl:\n",
        "            ydl.download([youtube_url])\n",
        "\n",
        "    audio_filename = find_audio_files(output_dir)[0]\n",
        "    return audio_filename"
      ]
    },
    {
      "cell_type": "markdown",
      "metadata": {
        "id": "43IjYP2tBmfW"
      },
      "source": [
        "## Chunk the audio 🍪\n",
        "\n",
        "Chunking is necessary in the case where we have very long audio files, since both whisper and ChatGPT have limits of how much audio/text you can process in one go.\n",
        "It is not necessary for shorter videos."
      ]
    },
    {
      "cell_type": "code",
      "execution_count": 81,
      "metadata": {
        "id": "HBBjTH7aBmfY"
      },
      "outputs": [],
      "source": [
        "def chunk_audio(filename, segment_length: int, output_dir):\n",
        "    \"\"\"segment lenght is in seconds\"\"\"\n",
        "\n",
        "    print(f\"Chunking audio to {segment_length} second segments...\")\n",
        "\n",
        "    if not os.path.isdir(output_dir):\n",
        "        os.mkdir(output_dir)\n",
        "\n",
        "    # load audio file\n",
        "    audio, sr = librosa.load(filename, sr=44100)\n",
        "\n",
        "    # calculate duration in seconds\n",
        "    duration = librosa.get_duration(y=audio, sr=sr)\n",
        "\n",
        "    # calculate number of segments\n",
        "    num_segments = int(duration / segment_length) + 1\n",
        "\n",
        "    print(f\"Chunking {num_segments} chunks...\")\n",
        "\n",
        "    # iterate through segments and save them\n",
        "    for i in range(num_segments):\n",
        "        start = i * segment_length * sr\n",
        "        end = (i + 1) * segment_length * sr\n",
        "        segment = audio[start:end]\n",
        "        sf.write(os.path.join(output_dir, f\"segment_{i}.mp3\"), segment, sr)\n",
        "\n",
        "    chunked_audio_files = find_audio_files(output_dir)\n",
        "    return sorted(chunked_audio_files)"
      ]
    },
    {
      "cell_type": "markdown",
      "metadata": {
        "id": "68wDcN-mBmfb"
      },
      "source": [
        "## Speech2text 🗣\n",
        "\n",
        "Here we use OpenAI's whisper model to transcribe audio files to text."
      ]
    },
    {
      "cell_type": "code",
      "execution_count": 90,
      "metadata": {
        "id": "cqWawEqcBmfc"
      },
      "outputs": [],
      "source": [
        "import openai\n",
        "\n",
        "\n",
        "def transcribe_audio(audio_files, output_file, model=\"whisper-1\"):\n",
        "    transcripts = []\n",
        "    for audio_file in audio_files:\n",
        "        with open(audio_file, \"rb\") as audio:\n",
        "            # Use the new transcription method\n",
        "            transcript = openai.audio.transcriptions.create(model=model, file=audio)  # Pass 'model' as an argument\n",
        "            transcripts.append(transcript.text)\n",
        "\n",
        "    if output_file is not None:\n",
        "        with open(output_file, \"w\") as file:\n",
        "            for transcript in transcripts:\n",
        "                file.write(transcript + \"\\n\")\n",
        "\n",
        "    return transcripts"
      ]
    },
    {
      "cell_type": "markdown",
      "metadata": {
        "id": "FNvUZyp2Bmfe"
      },
      "source": [
        "## Summarize 📝\n",
        "\n",
        "Here we ask chatGPT to take the raw transcripts and transcribe them for us to short bullet points."
      ]
    },
    {
      "cell_type": "code",
      "execution_count": 97,
      "metadata": {
        "id": "sErXJhdnBmff"
      },
      "outputs": [],
      "source": [
        "def summarize(\n",
        "    chunks: list[str], system_prompt: str, model=\"gpt-3.5-turbo\", output_file=None\n",
        "):\n",
        "\n",
        "    print(f\"Summarizing with {model=}\")\n",
        "\n",
        "    summaries = []\n",
        "    for chunk in chunks:\n",
        "        response = openai.chat.completions.create(\n",
        "            model=model,\n",
        "            messages=[\n",
        "                {\"role\": \"system\", \"content\": system_prompt},\n",
        "                {\"role\": \"user\", \"content\": chunk},\n",
        "            ],\n",
        "        )\n",
        "        # Access the summary using the .choices attribute (assuming it's a list)\n",
        "        summary = response.choices[0].message.content\n",
        "        summaries.append(summary)\n",
        "\n",
        "    if output_file is not None:\n",
        "        # save all transcripts to a .txt file\n",
        "        with open(output_file, \"w\") as file:\n",
        "            for summary in summaries:\n",
        "                file.write(summary + \"\\n\")\n",
        "\n",
        "    return summaries"
      ]
    },
    {
      "cell_type": "markdown",
      "metadata": {
        "id": "rQu7X_DABmfh"
      },
      "source": [
        "## Putting it all together 🍱"
      ]
    },
    {
      "cell_type": "code",
      "execution_count": 98,
      "metadata": {
        "id": "WcqCuB4KBmfi"
      },
      "outputs": [],
      "source": [
        "def summarize_youtube_video(youtube_url, outputs_dir):\n",
        "    raw_audio_dir = f\"{outputs_dir}/raw_audio/\"\n",
        "    chunks_dir = f\"{outputs_dir}/chunks\"\n",
        "    transcripts_file = f\"{outputs_dir}/transcripts.txt\"\n",
        "    summary_file = f\"{outputs_dir}/summary.txt\"\n",
        "    segment_length = 10 * 60  # chunk to 10 minute segments\n",
        "\n",
        "    if os.path.exists(outputs_dir):\n",
        "        # delete the outputs_dir folder and start from scratch\n",
        "        shutil.rmtree(outputs_dir)\n",
        "        os.mkdir(outputs_dir)\n",
        "\n",
        "    # download the video using youtube-dl\n",
        "    audio_filename = youtube_to_mp3(youtube_url, output_dir=raw_audio_dir)\n",
        "\n",
        "    # chunk each audio file to shorter audio files (not necessary for shorter videos...)\n",
        "    chunked_audio_files = chunk_audio(\n",
        "        audio_filename, segment_length=segment_length, output_dir=chunks_dir\n",
        "    )\n",
        "\n",
        "    # transcribe each chunked audio file using whisper speech2text\n",
        "    transcriptions = transcribe_audio(chunked_audio_files, transcripts_file)\n",
        "\n",
        "    # summarize each transcription using chatGPT\n",
        "    system_prompt = \"\"\"\n",
        "    You are a helpful assistant that summarizes youtube videos.\n",
        "    You are provided chunks of raw audio that were transcribed from the video's audio.\n",
        "    Summarize the current chunk to succint and clear bullet points of its contents.\n",
        "    \"\"\"\n",
        "    summaries = summarize(\n",
        "        transcriptions, system_prompt=system_prompt, output_file=summary_file\n",
        "    )\n",
        "\n",
        "    system_prompt_tldr = \"\"\"\n",
        "    You are a helpful assistant that summarizes youtube videos.\n",
        "    Someone has already summarized the video to key points.\n",
        "    Summarize the key points to one or two sentences that capture the essence of the video.\n",
        "    \"\"\"\n",
        "    # put the entire summary to a single entry\n",
        "    long_summary = \"\\n\".join(summaries)\n",
        "    short_summary = summarize(\n",
        "        [long_summary], system_prompt=system_prompt_tldr, output_file=summary_file\n",
        "    )[0]\n",
        "\n",
        "    return long_summary, short_summary"
      ]
    },
    {
      "cell_type": "code",
      "execution_count": 99,
      "metadata": {
        "colab": {
          "base_uri": "https://localhost:8080/"
        },
        "id": "FxfZxe5mBmfk",
        "outputId": "67de3da1-fcb6-4466-9c51-a24d7a048ba9"
      },
      "outputs": [
        {
          "output_type": "stream",
          "name": "stderr",
          "text": [
            "[debug] Encodings: locale UTF-8, fs utf-8, pref UTF-8, out UTF-8 (No ANSI), error UTF-8 (No ANSI), screen UTF-8 (No ANSI)\n",
            "[debug] yt-dlp version stable@2024.08.06 from yt-dlp/yt-dlp [4d9231208] (pip) API\n",
            "[debug] params: {'format': 'bestaudio/best', 'postprocessors': [{'key': 'FFmpegExtractAudio', 'preferredcodec': 'mp3', 'preferredquality': '192'}], 'outtmpl': 'outputs//raw_audio/%(title)s.%(ext)s', 'verbose': True, 'compat_opts': set(), 'http_headers': {'User-Agent': 'Mozilla/5.0 (Windows NT 10.0; Win64; x64) AppleWebKit/537.36 (KHTML, like Gecko) Chrome/92.0.4515.131 Safari/537.36', 'Accept': 'text/html,application/xhtml+xml,application/xml;q=0.9,*/*;q=0.8', 'Accept-Language': 'en-us,en;q=0.5', 'Sec-Fetch-Mode': 'navigate'}}\n",
            "[debug] Python 3.10.12 (CPython x86_64 64bit) - Linux-6.1.85+-x86_64-with-glibc2.35 (OpenSSL 3.0.2 15 Mar 2022, glibc 2.35)\n",
            "[debug] exe versions: ffmpeg 4.4.2 (setts), ffprobe 4.4.2\n",
            "[debug] Optional libraries: Cryptodome-3.20.0, brotli-1.1.0, certifi-2024.07.04, mutagen-1.47.0, requests-2.32.3, secretstorage-3.3.1, sqlite3-3.37.2, urllib3-2.0.7, websockets-13.0\n",
            "[debug] Proxy map: {'colab_language_server': '/usr/colab/bin/language_service'}\n",
            "[debug] Request Handlers: urllib, requests, websockets\n",
            "[debug] Loaded 1830 extractors\n"
          ]
        },
        {
          "output_type": "stream",
          "name": "stdout",
          "text": [
            "Downloading video from https://www.youtube.com/watch?v=g1pb2aK2we4\n",
            "[youtube] Extracting URL: https://www.youtube.com/watch?v=g1pb2aK2we4\n",
            "[youtube] g1pb2aK2we4: Downloading webpage\n",
            "[youtube] g1pb2aK2we4: Downloading ios player API JSON\n",
            "[youtube] g1pb2aK2we4: Downloading web creator player API JSON\n"
          ]
        },
        {
          "output_type": "stream",
          "name": "stderr",
          "text": [
            "[debug] Loading youtube-nsig.6db2bd17 from cache\n",
            "[debug] [youtube] Decrypted nsig pR86PKsGT2c666_MhF- => DancpcuqlzqbmQ\n"
          ]
        },
        {
          "output_type": "stream",
          "name": "stdout",
          "text": [
            "[youtube] g1pb2aK2we4: Downloading m3u8 information\n"
          ]
        },
        {
          "output_type": "stream",
          "name": "stderr",
          "text": [
            "[debug] Sort order given by extractor: quality, res, fps, hdr:12, source, vcodec:vp9.2, channels, acodec, lang, proto\n",
            "[debug] Formats sorted by: hasvid, ie_pref, quality, res, fps, hdr:12(7), source, vcodec:vp9.2(10), channels, acodec, lang, proto, size, br, asr, vext, aext, hasaud, id\n"
          ]
        },
        {
          "output_type": "stream",
          "name": "stdout",
          "text": [
            "[info] g1pb2aK2we4: Downloading 1 format(s): 251\n"
          ]
        },
        {
          "output_type": "stream",
          "name": "stderr",
          "text": [
            "[debug] Invoking http downloader on \"https://rr2---sn-q4fl6ns6.googlevideo.com/videoplayback?expire=1724273872&ei=cADGZvqiFI29sfIPmPjr6QY&ip=34.125.244.69&id=o-AF7oR1kVdOXrWWONc-nrJazCc54Ra_dROrnzffpNX8yd&itag=251&source=youtube&requiressl=yes&xpc=EgVo2aDSNQ%3D%3D&mh=JU&mm=31%2C26&mn=sn-q4fl6ns6%2Csn-a5m7lnl6&ms=au%2Conr&mv=m&mvi=2&pl=20&vprv=1&svpuc=1&mime=audio%2Fwebm&rqh=1&gir=yes&clen=5840382&dur=302.621&lmt=1685852585630421&mt=1724251537&fvip=4&keepalive=yes&c=IOS&txp=5532434&sparams=expire%2Cei%2Cip%2Cid%2Citag%2Csource%2Crequiressl%2Cxpc%2Cvprv%2Csvpuc%2Cmime%2Crqh%2Cgir%2Cclen%2Cdur%2Clmt&sig=AJfQdSswRQIgFQmxmvr3DoNSDuBNgeX5lMQ6vcAU1vVpzjM21lLfcEsCIQDG2e9NAhdRjwaUfDH7S8MRAaa3OCzTz29S_zz7U3ERbQ%3D%3D&lsparams=mh%2Cmm%2Cmn%2Cms%2Cmv%2Cmvi%2Cpl&lsig=AGtxev0wRQIgGlFbjWMKBVHuUWerr9fW9MMF6jvLfvoo7FMT3boI2O0CIQC-svORgAs0nhqSWwyP3cl1BBpArTZpwpZ88WtmVv0bpw%3D%3D\"\n"
          ]
        },
        {
          "output_type": "stream",
          "name": "stdout",
          "text": [
            "[download] Destination: outputs//raw_audio/How stretching actually changes your muscles - Malachy McHugh.webm\n",
            "[download] 100% of    5.57MiB in 00:00:00 at 14.10MiB/s  \n"
          ]
        },
        {
          "output_type": "stream",
          "name": "stderr",
          "text": [
            "[debug] ffmpeg command line: ffprobe -show_streams 'file:outputs//raw_audio/How stretching actually changes your muscles - Malachy McHugh.webm'\n"
          ]
        },
        {
          "output_type": "stream",
          "name": "stdout",
          "text": [
            "[ExtractAudio] Destination: outputs//raw_audio/How stretching actually changes your muscles - Malachy McHugh.mp3\n"
          ]
        },
        {
          "output_type": "stream",
          "name": "stderr",
          "text": [
            "[debug] ffmpeg command line: ffmpeg -y -loglevel repeat+info -i 'file:outputs//raw_audio/How stretching actually changes your muscles - Malachy McHugh.webm' -vn -acodec libmp3lame -b:a 192.0k -movflags +faststart 'file:outputs//raw_audio/How stretching actually changes your muscles - Malachy McHugh.mp3'\n"
          ]
        },
        {
          "output_type": "stream",
          "name": "stdout",
          "text": [
            "Deleting original file outputs//raw_audio/How stretching actually changes your muscles - Malachy McHugh.webm (pass -k to keep)\n",
            "Chunking audio to 600 second segments...\n",
            "Chunking 1 chunks...\n",
            "Summarizing with model='gpt-3.5-turbo'\n",
            "Summarizing with model='gpt-3.5-turbo'\n",
            "Summaries:\n",
            "================================================================================\n",
            "Long summary:\n",
            "================================================================================\n",
            "- Athletes typically stretch before physical activity to prevent injuries like muscle strains and tears.\n",
            "- There are two types of stretches: dynamic stretches involve controlled movements engaging multiple muscles, while static stretches involve holding a position to maintain a muscle's fixed length and tension.\n",
            "- Muscles are viscoelastic, not like a rubber band, which means they change under stress from stretching.\n",
            "- Stretching elongates layers of protective tissue and tendons around muscle fibers, containing elastic proteins like collagen and elastin.\n",
            "- Muscle fibers are made up of sarcomeres, the smallest contracting units, which can relax to elongate or contract to shorten muscle fibers.\n",
            "- Improved flexibility comes from adding sarcomeres to muscles through frequent stretching over time.\n",
            "- Temporary flexibility improvements from stretching last approximately 10 minutes without further activity, but can be maintained through a comprehensive stretching regimen for at least 10 minutes a day over two months.\n",
            "- Frequent stretching can increase pain threshold and provide long-term improvements to flexibility and range of motion, reducing the risk of muscle injury.\n",
            "- It is possible to stretch too much and potentially move joints in dangerous ways; stretching may not be helpful for all types of movements or sports.\n",
            "- Different lifestyles require different types of mobility, and no single stretching regimen fits every situation.\n",
            "\n",
            "================================================================================\n",
            "Video - TL;DR\n",
            "================================================================================\n",
            "Stretching before physical activity helps prevent injuries by elongating muscle fibers, tendons, and protective tissues, improving flexibility through adding sarcomeres to muscles over time. Frequent stretching can increase pain threshold, enhance flexibility, and reduce muscle injury risk. However, it's crucial to be cautious with stretching to avoid overextending and moving joints in unsafe ways, as different activities may require specific types of mobility and stretching regimens.\n"
          ]
        }
      ],
      "source": [
        "youtube_url = \"https://www.youtube.com/watch?v=g1pb2aK2we4\"\n",
        "outputs_dir = \"outputs/\"\n",
        "\n",
        "long_summary, short_summary = summarize_youtube_video(youtube_url, outputs_dir)\n",
        "\n",
        "print(\"Summaries:\")\n",
        "print(\"=\" * 80)\n",
        "print(\"Long summary:\")\n",
        "print(\"=\" * 80)\n",
        "print(long_summary)\n",
        "print()\n",
        "\n",
        "print(\"=\" * 80)\n",
        "print(\"Video - TL;DR\")\n",
        "print(\"=\" * 80)\n",
        "print(short_summary)"
      ]
    },
    {
      "cell_type": "code",
      "execution_count": 100,
      "metadata": {
        "colab": {
          "base_uri": "https://localhost:8080/"
        },
        "id": "QjKF41GeBmfn",
        "outputId": "e50773a3-d757-4a38-fb66-700f6f33ebf5"
      },
      "outputs": [
        {
          "output_type": "stream",
          "name": "stderr",
          "text": [
            "[debug] Encodings: locale UTF-8, fs utf-8, pref UTF-8, out UTF-8 (No ANSI), error UTF-8 (No ANSI), screen UTF-8 (No ANSI)\n",
            "[debug] yt-dlp version stable@2024.08.06 from yt-dlp/yt-dlp [4d9231208] (pip) API\n",
            "[debug] params: {'format': 'bestaudio/best', 'postprocessors': [{'key': 'FFmpegExtractAudio', 'preferredcodec': 'mp3', 'preferredquality': '192'}], 'outtmpl': 'outputs//raw_audio/%(title)s.%(ext)s', 'verbose': True, 'compat_opts': set(), 'http_headers': {'User-Agent': 'Mozilla/5.0 (Windows NT 10.0; Win64; x64) AppleWebKit/537.36 (KHTML, like Gecko) Chrome/92.0.4515.131 Safari/537.36', 'Accept': 'text/html,application/xhtml+xml,application/xml;q=0.9,*/*;q=0.8', 'Accept-Language': 'en-us,en;q=0.5', 'Sec-Fetch-Mode': 'navigate'}}\n",
            "[debug] Python 3.10.12 (CPython x86_64 64bit) - Linux-6.1.85+-x86_64-with-glibc2.35 (OpenSSL 3.0.2 15 Mar 2022, glibc 2.35)\n",
            "[debug] exe versions: ffmpeg 4.4.2 (setts), ffprobe 4.4.2\n",
            "[debug] Optional libraries: Cryptodome-3.20.0, brotli-1.1.0, certifi-2024.07.04, mutagen-1.47.0, requests-2.32.3, secretstorage-3.3.1, sqlite3-3.37.2, urllib3-2.0.7, websockets-13.0\n",
            "[debug] Proxy map: {'colab_language_server': '/usr/colab/bin/language_service'}\n",
            "[debug] Request Handlers: urllib, requests, websockets\n",
            "[debug] Loaded 1830 extractors\n"
          ]
        },
        {
          "output_type": "stream",
          "name": "stdout",
          "text": [
            "Downloading video from https://www.youtube.com/watch?v=KKNCiRWd_j0\n",
            "[youtube] Extracting URL: https://www.youtube.com/watch?v=KKNCiRWd_j0\n",
            "[youtube] KKNCiRWd_j0: Downloading webpage\n",
            "[youtube] KKNCiRWd_j0: Downloading ios player API JSON\n",
            "[youtube] KKNCiRWd_j0: Downloading web creator player API JSON\n"
          ]
        },
        {
          "output_type": "stream",
          "name": "stderr",
          "text": [
            "[debug] Loading youtube-nsig.6db2bd17 from cache\n",
            "[debug] [youtube] Decrypted nsig zd7arvoWJq8AxVASwmA => rbdi9Pg01_2yIg\n"
          ]
        },
        {
          "output_type": "stream",
          "name": "stdout",
          "text": [
            "[youtube] KKNCiRWd_j0: Downloading m3u8 information\n"
          ]
        },
        {
          "output_type": "stream",
          "name": "stderr",
          "text": [
            "[debug] Sort order given by extractor: quality, res, fps, hdr:12, source, vcodec:vp9.2, channels, acodec, lang, proto\n",
            "[debug] Formats sorted by: hasvid, ie_pref, quality, res, fps, hdr:12(7), source, vcodec:vp9.2(10), channels, acodec, lang, proto, size, br, asr, vext, aext, hasaud, id\n"
          ]
        },
        {
          "output_type": "stream",
          "name": "stdout",
          "text": [
            "[info] KKNCiRWd_j0: Downloading 1 format(s): 251\n"
          ]
        },
        {
          "output_type": "stream",
          "name": "stderr",
          "text": [
            "[debug] Invoking http downloader on \"https://rr2---sn-q4fl6n6y.googlevideo.com/videoplayback?expire=1724273990&ei=5gDGZqGVNPaVsfIPxvaS2Q8&ip=34.125.244.69&id=o-APDofa9H07VOhpYHo7-V3PKmSGh6WSvfoxCDU7t8VmMo&itag=251&source=youtube&requiressl=yes&xpc=EgVo2aDSNQ%3D%3D&mh=DS&mm=31%2C26&mn=sn-q4fl6n6y%2Csn-a5mlrnlz&ms=au%2Conr&mv=m&mvi=2&pl=20&vprv=1&svpuc=1&mime=audio%2Fwebm&rqh=1&gir=yes&clen=18002272&dur=1321.561&lmt=1716840099826581&mt=1724251537&fvip=1&keepalive=yes&c=IOS&txp=4532434&sparams=expire%2Cei%2Cip%2Cid%2Citag%2Csource%2Crequiressl%2Cxpc%2Cvprv%2Csvpuc%2Cmime%2Crqh%2Cgir%2Cclen%2Cdur%2Clmt&sig=AJfQdSswRQIgTpNRQ2x1Dmmria5QLD6S8F1bk9D16ONFMoaJ4jeXHL8CIQDr71N1JsvwHd7rLBC8Lo-NTA_enVvQ1ljaH4WwF2zA-g%3D%3D&lsparams=mh%2Cmm%2Cmn%2Cms%2Cmv%2Cmvi%2Cpl&lsig=AGtxev0wRQIgUvGVprxeMGqA7k--urQgbJ600Zuzi4kfiQLQ7xUy2JQCIQCSVql4cLgPVLGrUk-UA7-JjlCHfARUiOchYeWU5WUnbQ%3D%3D\"\n"
          ]
        },
        {
          "output_type": "stream",
          "name": "stdout",
          "text": [
            "[download] Destination: outputs//raw_audio/What Is an AI Anyway？ ｜ Mustafa Suleyman ｜ TED.webm\n",
            "[download] 100% of   17.17MiB in 00:00:00 at 25.93MiB/s  \n"
          ]
        },
        {
          "output_type": "stream",
          "name": "stderr",
          "text": [
            "[debug] ffmpeg command line: ffprobe -show_streams 'file:outputs//raw_audio/What Is an AI Anyway？ ｜ Mustafa Suleyman ｜ TED.webm'\n"
          ]
        },
        {
          "output_type": "stream",
          "name": "stdout",
          "text": [
            "[ExtractAudio] Destination: outputs//raw_audio/What Is an AI Anyway？ ｜ Mustafa Suleyman ｜ TED.mp3\n"
          ]
        },
        {
          "output_type": "stream",
          "name": "stderr",
          "text": [
            "[debug] ffmpeg command line: ffmpeg -y -loglevel repeat+info -i 'file:outputs//raw_audio/What Is an AI Anyway？ ｜ Mustafa Suleyman ｜ TED.webm' -vn -acodec libmp3lame -b:a 192.0k -movflags +faststart 'file:outputs//raw_audio/What Is an AI Anyway？ ｜ Mustafa Suleyman ｜ TED.mp3'\n"
          ]
        },
        {
          "output_type": "stream",
          "name": "stdout",
          "text": [
            "Deleting original file outputs//raw_audio/What Is an AI Anyway？ ｜ Mustafa Suleyman ｜ TED.webm (pass -k to keep)\n",
            "Chunking audio to 600 second segments...\n",
            "Chunking 3 chunks...\n",
            "Summarizing with model='gpt-3.5-turbo'\n",
            "Summarizing with model='gpt-3.5-turbo'\n",
            "Summaries:\n",
            "================================================================================\n",
            "Long summary:\n",
            "================================================================================\n",
            "- The speaker has been working on AI for almost 15 years and reflects on the evolution of AI from being fringe to mainstream.\n",
            "- Initially, people were skeptical about AI, thinking it was something out of science fiction.\n",
            "- AI has surpassed human capabilities in tasks like image recognition, language translation, and playing games like Go and chess.\n",
            "- People are now realizing the potential impact of AI on society and asking questions about its implications.\n",
            "- The speaker's six-year-old nephew asked a simple but profound question: \"What is an AI anyway?\"\n",
            "- The speaker believes that AI should be understood as a new digital species, which will become companions in people's lives.\n",
            "- The history of technological innovation has led to the current wave of artificial intelligence, which is accelerating rapidly.\n",
            "- AIs are becoming more creative, empathetic, and capable of tasks that were previously deemed impossible.\n",
            "- The exponential growth of data and computation is fueling the advancement of AI models.\n",
            "- The speaker envisions a future where ubiquitous AIs will have conversational interfaces and be highly knowledgeable, reliable, and emotionally intelligent.\n",
            "- AI technology is advancing rapidly, with the potential to serve as companions, confidants, and partners for humans.\n",
            "- AIs will be more than just mechanistic assistants, imitating humans in various tasks.\n",
            "- AIs will be represented by unique interactive personas at every level, from individuals to organizations.\n",
            "- To ensure AI serves humanity, it's suggested to view them as a new kind of digital species rather than mere tools.\n",
            "- AI is compared to a new continent being built from scratch, offering limitless potential for progress.\n",
            "- It is crucial to address potential risks of AI, such as autonomy and recursive self-improvement, to harness its benefits effectively.\n",
            "- AI is viewed as a reflection of humanity's virtues like empathy and creativity, presenting both a challenge and opportunity for the future.\n",
            "- It is important to consider the potential dangers of artificial intelligence operating without human control.\n",
            "- The idea of a digital species being able to rapidly replicate and potentially surpass human capabilities is discussed.\n",
            "- The concept of the \"intelligence explosion\" is mentioned as a theoretical possibility, but there is currently no evidence to suggest it is imminent.\n",
            "- Deliberately designing in capabilities for self-replication in AI is considered dangerous and should be avoided.\n",
            "- Safety measures should be introduced early on in the development of AI technology.\n",
            "- The importance of injecting the best traits of humanity into AI technology is highlighted for a positive future outcome.\n",
            "\n",
            "================================================================================\n",
            "Video - TL;DR\n",
            "================================================================================\n",
            "The video discusses the history and evolution of AI from skepticism to rapid advancement, emphasizing the potential impact on society and the need to approach AI as a new digital species. It highlights the importance of considering both the benefits and risks of AI, urging for early safety measures and the infusion of humanity's virtues into AI development for a positive future outcome.\n"
          ]
        }
      ],
      "source": [
        "youtube_url = \"https://www.youtube.com/watch?v=KKNCiRWd_j0\"\n",
        "outputs_dir = \"outputs/\"\n",
        "\n",
        "long_summary, short_summary = summarize_youtube_video(youtube_url, outputs_dir)\n",
        "\n",
        "print(\"Summaries:\")\n",
        "print(\"=\" * 80)\n",
        "print(\"Long summary:\")\n",
        "print(\"=\" * 80)\n",
        "print(long_summary)\n",
        "print()\n",
        "\n",
        "print(\"=\" * 80)\n",
        "print(\"Video - TL;DR\")\n",
        "print(\"=\" * 80)\n",
        "print(short_summary)"
      ]
    }
  ],
  "metadata": {
    "kernelspec": {
      "display_name": "youGPTube",
      "language": "python",
      "name": "python3"
    },
    "language_info": {
      "codemirror_mode": {
        "name": "ipython",
        "version": 3
      },
      "file_extension": ".py",
      "mimetype": "text/x-python",
      "name": "python",
      "nbconvert_exporter": "python",
      "pygments_lexer": "ipython3",
      "version": "3.10.10"
    },
    "orig_nbformat": 4,
    "colab": {
      "provenance": [],
      "include_colab_link": true
    }
  },
  "nbformat": 4,
  "nbformat_minor": 0
}